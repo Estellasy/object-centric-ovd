{
 "cells": [
  {
   "cell_type": "code",
   "execution_count": 1,
   "metadata": {},
   "outputs": [],
   "source": [
    "import json\n",
    "import numpy as np\n",
    "import torch"
   ]
  },
  {
   "cell_type": "code",
   "execution_count": 2,
   "metadata": {},
   "outputs": [],
   "source": [
    "with open('data/neudet_coco/annotations/instances_train2017.json', 'r') as fin:\n",
    "    coco_train_anno_all = json.load(fin)"
   ]
  },
  {
   "cell_type": "code",
   "execution_count": 3,
   "metadata": {},
   "outputs": [],
   "source": [
    "with open('data/neudet_coco/annotations/instances_train2017.json', 'r') as fin:\n",
    "    coco_train_anno_seen = json.load(fin)"
   ]
  },
  {
   "cell_type": "code",
   "execution_count": 4,
   "metadata": {},
   "outputs": [],
   "source": [
    "with open('data/neudet_coco/annotations/instances_train2017.json', 'r') as fin:\n",
    "    coco_train_anno_unseen = json.load(fin)"
   ]
  },
  {
   "cell_type": "code",
   "execution_count": 5,
   "metadata": {},
   "outputs": [],
   "source": [
    "with open('data/neudet_coco/annotations/instances_val2017.json', 'r') as fin:\n",
    "    coco_val_anno_all = json.load(fin)"
   ]
  },
  {
   "cell_type": "code",
   "execution_count": 6,
   "metadata": {},
   "outputs": [],
   "source": [
    "with open('data/neudet_coco/annotations/instances_val2017.json', 'r') as fin:\n",
    "    coco_val_anno_seen = json.load(fin)"
   ]
  },
  {
   "cell_type": "code",
   "execution_count": 7,
   "metadata": {},
   "outputs": [],
   "source": [
    "with open('data/neudet_coco/annotations/instances_val2017.json', 'r') as fin:\n",
    "    coco_val_anno_unseen = json.load(fin)"
   ]
  },
  {
   "cell_type": "code",
   "execution_count": 10,
   "metadata": {},
   "outputs": [],
   "source": [
    "with open('data/neudet_zeroshot/neudet_seen_classes.json', 'r') as fin:\n",
    "    labels_seen = json.load(fin)"
   ]
  },
  {
   "cell_type": "code",
   "execution_count": 12,
   "metadata": {},
   "outputs": [],
   "source": [
    "with open('data/neudet_zeroshot/neudet_unseen_classes.json', 'r') as fin:\n",
    "    labels_unseen = json.load(fin)"
   ]
  },
  {
   "cell_type": "code",
   "execution_count": 13,
   "metadata": {},
   "outputs": [
    {
     "data": {
      "text/plain": [
       "(5, 1)"
      ]
     },
     "execution_count": 13,
     "metadata": {},
     "output_type": "execute_result"
    }
   ],
   "source": [
    "len(labels_seen), len(labels_unseen)"
   ]
  },
  {
   "cell_type": "code",
   "execution_count": 14,
   "metadata": {},
   "outputs": [],
   "source": [
    "labels_all = [item['name'] for item in coco_val_anno_all['categories']]"
   ]
  },
  {
   "cell_type": "code",
   "execution_count": 17,
   "metadata": {},
   "outputs": [
    {
     "data": {
      "text/plain": [
       "5"
      ]
     },
     "execution_count": 17,
     "metadata": {},
     "output_type": "execute_result"
    }
   ],
   "source": [
    "len(labels_seen)"
   ]
  },
  {
   "cell_type": "code",
   "execution_count": 15,
   "metadata": {},
   "outputs": [
    {
     "data": {
      "text/plain": [
       "set()"
      ]
     },
     "execution_count": 15,
     "metadata": {},
     "output_type": "execute_result"
    }
   ],
   "source": [
    "set(labels_seen) - set(labels_all)"
   ]
  },
  {
   "cell_type": "code",
   "execution_count": 18,
   "metadata": {},
   "outputs": [
    {
     "data": {
      "text/plain": [
       "set()"
      ]
     },
     "execution_count": 18,
     "metadata": {},
     "output_type": "execute_result"
    }
   ],
   "source": [
    "set(labels_unseen) - set(labels_all)"
   ]
  },
  {
   "cell_type": "code",
   "execution_count": 19,
   "metadata": {},
   "outputs": [],
   "source": [
    "class_id_to_split = {}\n",
    "class_name_to_split = {}\n",
    "for item in coco_val_anno_all['categories']:\n",
    "    if item['name'] in labels_seen:\n",
    "        class_id_to_split[item['id']] = 'seen'\n",
    "        class_name_to_split[item['name']] = 'seen'\n",
    "    elif item['name'] in labels_unseen:\n",
    "        class_id_to_split[item['id']] = 'unseen'\n",
    "        class_name_to_split[item['name']] = 'unseen'"
   ]
  },
  {
   "cell_type": "code",
   "execution_count": 20,
   "metadata": {},
   "outputs": [],
   "source": [
    "def filter_annotation(anno_dict, split_name_list):\n",
    "    filtered_categories = []\n",
    "    for item in anno_dict['categories']:\n",
    "        if class_id_to_split.get(item['id']) in split_name_list:\n",
    "            filtered_categories.append(item)\n",
    "    anno_dict['categories'] = filtered_categories\n",
    "    \n",
    "    filtered_images = []\n",
    "    filtered_annotations = []\n",
    "    useful_image_ids = set()\n",
    "    for item in anno_dict['annotations']:\n",
    "        if class_id_to_split.get(item['category_id']) in split_name_list:\n",
    "            filtered_annotations.append(item)\n",
    "            useful_image_ids.add(item['image_id'])\n",
    "    for item in anno_dict['images']:\n",
    "        if item['id'] in useful_image_ids:\n",
    "            filtered_images.append(item)\n",
    "    anno_dict['annotations'] = filtered_annotations\n",
    "    anno_dict['images'] = filtered_images    "
   ]
  },
  {
   "cell_type": "code",
   "execution_count": 21,
   "metadata": {},
   "outputs": [],
   "source": [
    "filter_annotation(coco_train_anno_seen, ['seen'])"
   ]
  },
  {
   "cell_type": "code",
   "execution_count": 22,
   "metadata": {},
   "outputs": [],
   "source": [
    "filter_annotation(coco_train_anno_unseen, ['unseen'])"
   ]
  },
  {
   "cell_type": "code",
   "execution_count": 23,
   "metadata": {},
   "outputs": [],
   "source": [
    "filter_annotation(coco_val_anno_seen, ['seen'])"
   ]
  },
  {
   "cell_type": "code",
   "execution_count": 24,
   "metadata": {},
   "outputs": [],
   "source": [
    "filter_annotation(coco_val_anno_unseen, ['unseen'])"
   ]
  },
  {
   "cell_type": "code",
   "execution_count": 25,
   "metadata": {},
   "outputs": [],
   "source": [
    "filter_annotation(coco_val_anno_all, ['seen', 'unseen'])"
   ]
  },
  {
   "cell_type": "code",
   "execution_count": 26,
   "metadata": {},
   "outputs": [
    {
     "data": {
      "text/plain": [
       "(5, 1, 6)"
      ]
     },
     "execution_count": 26,
     "metadata": {},
     "output_type": "execute_result"
    }
   ],
   "source": [
    "len(coco_val_anno_seen['categories']), len(coco_val_anno_unseen['categories']), len(coco_val_anno_all['categories'])"
   ]
  },
  {
   "cell_type": "code",
   "execution_count": 27,
   "metadata": {},
   "outputs": [],
   "source": [
    "with open('data/neudet_zeroshot/instances_train2017_seen_2.json', 'w') as fout:\n",
    "    json.dump(coco_train_anno_seen, fout)"
   ]
  },
  {
   "cell_type": "code",
   "execution_count": 28,
   "metadata": {},
   "outputs": [],
   "source": [
    "with open('data/neudet_zeroshot/instances_train2017_unseen_2.json', 'w') as fout:\n",
    "    json.dump(coco_train_anno_unseen, fout)"
   ]
  },
  {
   "cell_type": "code",
   "execution_count": 29,
   "metadata": {},
   "outputs": [],
   "source": [
    "with open('data/neudet_zeroshot/instances_train2017_all_2.json', 'w') as fout:\n",
    "    json.dump(coco_train_anno_all, fout)"
   ]
  },
  {
   "cell_type": "code",
   "execution_count": 30,
   "metadata": {},
   "outputs": [],
   "source": [
    "with open('data/neudet_zeroshot/instances_val2017_seen_2.json', 'w') as fout:\n",
    "    json.dump(coco_val_anno_seen, fout)"
   ]
  },
  {
   "cell_type": "code",
   "execution_count": 31,
   "metadata": {},
   "outputs": [],
   "source": [
    "with open('data/neudet_zeroshot/instances_val2017_unseen_2.json', 'w') as fout:\n",
    "    json.dump(coco_val_anno_unseen, fout)"
   ]
  },
  {
   "cell_type": "code",
   "execution_count": 32,
   "metadata": {},
   "outputs": [],
   "source": [
    "with open('data/neudet_zeroshot/instances_val2017_all_2.json', 'w') as fout:\n",
    "    json.dump(coco_val_anno_all, fout)"
   ]
  },
  {
   "cell_type": "code",
   "execution_count": null,
   "metadata": {},
   "outputs": [],
   "source": []
  }
 ],
 "metadata": {
  "kernelspec": {
   "display_name": "glip",
   "language": "python",
   "name": "python3"
  },
  "language_info": {
   "codemirror_mode": {
    "name": "ipython",
    "version": 3
   },
   "file_extension": ".py",
   "mimetype": "text/x-python",
   "name": "python",
   "nbconvert_exporter": "python",
   "pygments_lexer": "ipython3",
   "version": "3.8.20"
  }
 },
 "nbformat": 4,
 "nbformat_minor": 2
}
